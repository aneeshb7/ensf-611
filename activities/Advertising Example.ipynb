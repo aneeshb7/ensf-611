{
 "cells": [
  {
   "attachments": {},
   "cell_type": "markdown",
   "id": "b042e53b",
   "metadata": {},
   "source": [
    "# Linear Regression - Advertising Example\n",
    "Adapted from Chapter 3 of *An Introduction to Statistical Learning with Applications in Python* textbook"
   ]
  },
  {
   "cell_type": "code",
   "execution_count": null,
   "id": "8740c2ef",
   "metadata": {},
   "outputs": [],
   "source": [
    "import numpy as np\n",
    "import pandas as pd\n",
    "import matplotlib.pyplot as plt\n",
    "import seaborn as sns"
   ]
  },
  {
   "cell_type": "code",
   "execution_count": null,
   "id": "1ae959bc",
   "metadata": {},
   "outputs": [],
   "source": [
    "import warnings\n",
    "warnings.filterwarnings('ignore') #ignoring some deprication warnings"
   ]
  },
  {
   "cell_type": "markdown",
   "id": "870a30d8",
   "metadata": {},
   "source": [
    "### Load Data\n",
    "\n",
    "Consider the advertising data as mentioned in the Linear Models notes:"
   ]
  },
  {
   "cell_type": "code",
   "execution_count": null,
   "id": "3c417ada",
   "metadata": {},
   "outputs": [],
   "source": [
    "data = pd.read_csv('Advertising.csv')\n",
    "data.head()"
   ]
  },
  {
   "cell_type": "markdown",
   "id": "ae508f1e",
   "metadata": {},
   "source": [
    "## Simple Linear Regression\n",
    "Let's investigate the relationship between sales and money spent on TV advertising"
   ]
  },
  {
   "cell_type": "markdown",
   "id": "34f94ea5",
   "metadata": {},
   "source": [
    "### Arrange data into feature matrix and target vector"
   ]
  },
  {
   "cell_type": "code",
   "execution_count": null,
   "id": "9412ae69",
   "metadata": {},
   "outputs": [],
   "source": [
    "x = data['TV']\n",
    "print(x.shape)\n",
    "y = data['sales']\n",
    "print(y.shape)"
   ]
  },
  {
   "cell_type": "code",
   "execution_count": null,
   "id": "d8bd9b0b",
   "metadata": {},
   "outputs": [],
   "source": [
    "# Need to reshape X to be 2-D array\n",
    "X = np.array(x)\n",
    "X = X.reshape(-1,1)"
   ]
  },
  {
   "cell_type": "markdown",
   "id": "4736f6a8",
   "metadata": {},
   "source": [
    "### Do we have a linear relationship?"
   ]
  },
  {
   "cell_type": "code",
   "execution_count": null,
   "id": "ea0b4472",
   "metadata": {},
   "outputs": [],
   "source": [
    "ax = sns.lmplot(x='TV', y='sales', data=data)"
   ]
  },
  {
   "cell_type": "markdown",
   "id": "da43ef20",
   "metadata": {},
   "source": [
    "### Implement linear regression model"
   ]
  },
  {
   "cell_type": "code",
   "execution_count": null,
   "id": "6308887b",
   "metadata": {},
   "outputs": [],
   "source": [
    "from sklearn.linear_model import LinearRegression\n",
    "from sklearn.model_selection import train_test_split\n",
    "\n",
    "X_train, X_test, y_train, y_test = train_test_split(X, y, random_state=55)\n",
    "\n",
    "lr = LinearRegression().fit(X_train, y_train)"
   ]
  },
  {
   "cell_type": "markdown",
   "id": "dc6a75b0",
   "metadata": {},
   "source": [
    "What are the estimated coefficients?"
   ]
  },
  {
   "cell_type": "code",
   "execution_count": null,
   "id": "9cab963e",
   "metadata": {},
   "outputs": [],
   "source": [
    "print(\"lr.coef_: \", lr.coef_)\n",
    "print(\"lr.intercept_: \", lr.intercept_)"
   ]
  },
  {
   "cell_type": "markdown",
   "id": "dfc6ca2a",
   "metadata": {},
   "source": [
    "How accurate is our estimated model?"
   ]
  },
  {
   "cell_type": "code",
   "execution_count": null,
   "id": "a2391bf8",
   "metadata": {},
   "outputs": [],
   "source": [
    "from sklearn.metrics import mean_squared_error\n",
    "\n",
    "y_pred = lr.predict(X_test)\n",
    "mean_squared_error(y_test, y_pred)"
   ]
  },
  {
   "cell_type": "code",
   "execution_count": null,
   "id": "9f649295",
   "metadata": {},
   "outputs": [],
   "source": [
    "print(\"Training score:\", lr.score(X_train, y_train))\n",
    "print(\"Testing score:\", lr.score(X_test, y_test))"
   ]
  },
  {
   "cell_type": "markdown",
   "id": "bd9b3f61",
   "metadata": {},
   "source": [
    "Looking at the R^2 score, it seems that we are underfitting the data, because we have high bias and low variance.\n",
    "\n",
    "What happens if we include more than one feature?"
   ]
  },
  {
   "cell_type": "markdown",
   "id": "b8a3c2d1",
   "metadata": {},
   "source": [
    "## Multiple Linear Regression\n",
    "We will repeat the same analysis as above, but with all three advertising budgets"
   ]
  },
  {
   "cell_type": "code",
   "execution_count": null,
   "id": "810eabf3",
   "metadata": {},
   "outputs": [],
   "source": [
    "X = data.drop('sales', axis=1)\n",
    "print(X.shape)\n",
    "y = data['sales']\n",
    "print(y.shape)"
   ]
  },
  {
   "cell_type": "markdown",
   "id": "b146cebc",
   "metadata": {},
   "source": [
    "### Are the features correlated?"
   ]
  },
  {
   "cell_type": "code",
   "execution_count": null,
   "id": "c4dd31b0",
   "metadata": {},
   "outputs": [],
   "source": [
    "sns.pairplot(data)"
   ]
  },
  {
   "cell_type": "code",
   "execution_count": null,
   "id": "8998e3a9",
   "metadata": {},
   "outputs": [],
   "source": [
    "g = sns.heatmap(data.corr(method='spearman'), annot=True)"
   ]
  },
  {
   "cell_type": "markdown",
   "id": "a07eeed5",
   "metadata": {},
   "source": [
    "### Implement linear regression model"
   ]
  },
  {
   "cell_type": "code",
   "execution_count": null,
   "id": "7f60018c",
   "metadata": {},
   "outputs": [],
   "source": [
    "from sklearn.linear_model import LinearRegression\n",
    "from sklearn.model_selection import train_test_split\n",
    "\n",
    "X_train, X_test, y_train, y_test = train_test_split(X, y, random_state=0)\n",
    "\n",
    "lr = LinearRegression().fit(X_train, y_train)"
   ]
  },
  {
   "cell_type": "markdown",
   "id": "6786871e",
   "metadata": {},
   "source": [
    "What are the estimated coefficients?"
   ]
  },
  {
   "cell_type": "code",
   "execution_count": null,
   "id": "00b6dec6",
   "metadata": {},
   "outputs": [],
   "source": [
    "print(\"lr.coef_: \", lr.coef_)\n",
    "print(\"lr.intercept_: \", lr.intercept_)"
   ]
  },
  {
   "cell_type": "markdown",
   "id": "7f381394",
   "metadata": {},
   "source": [
    "The coefficient for the TV data is similar to the simple linear regression example. The highest coefficient is for the radio data. The coefficient for the newspaper data is very low (close to zero). This means that the newspaper data is not as important to the model as the other two. \n",
    "\n",
    "Looking at the heatmap, this makes sense, as the newspaper data is correlated with the radio data, but not the sales. This means that spending more on radio advertising is usually done with an increased newspaper spend, but that just increasing newspaper spending does not necessarily increase sales."
   ]
  },
  {
   "cell_type": "code",
   "execution_count": null,
   "id": "2d4061c2",
   "metadata": {},
   "outputs": [],
   "source": [
    "from sklearn.metrics import mean_squared_error\n",
    "\n",
    "y_pred = lr.predict(X_test)\n",
    "mean_squared_error(y_test, y_pred)"
   ]
  },
  {
   "cell_type": "code",
   "execution_count": null,
   "id": "7227d9b2",
   "metadata": {},
   "outputs": [],
   "source": [
    "print(\"Training score:\", lr.score(X_train, y_train))\n",
    "print(\"Testing score:\", lr.score(X_test, y_test))"
   ]
  },
  {
   "cell_type": "markdown",
   "id": "8adeb8be",
   "metadata": {},
   "source": [
    "We can see that, by adding the additional data features, we were able to decrease the error and the bias."
   ]
  },
  {
   "cell_type": "code",
   "execution_count": null,
   "id": "b8d44ca4",
   "metadata": {},
   "outputs": [],
   "source": []
  }
 ],
 "metadata": {
  "kernelspec": {
   "display_name": "Python 3 (ipykernel)",
   "language": "python",
   "name": "python3"
  },
  "language_info": {
   "codemirror_mode": {
    "name": "ipython",
    "version": 3
   },
   "file_extension": ".py",
   "mimetype": "text/x-python",
   "name": "python",
   "nbconvert_exporter": "python",
   "pygments_lexer": "ipython3",
   "version": "3.11.5"
  }
 },
 "nbformat": 4,
 "nbformat_minor": 5
}
