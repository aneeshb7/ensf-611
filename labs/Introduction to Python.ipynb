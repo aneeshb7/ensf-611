{
 "cells": [
  {
   "cell_type": "markdown",
   "id": "5e73fbeb",
   "metadata": {},
   "source": [
    "# Lab 1: Introduction to Python\n",
    "\n",
    "This lab is adapted from https://github.com/intro-stat-learning/ISLP_labs/blob/main/Ch02-statlearn-lab.ipynb"
   ]
  },
  {
   "cell_type": "markdown",
   "id": "9906b040",
   "metadata": {},
   "source": [
    "## Basic Commands\n"
   ]
  },
  {
   "cell_type": "markdown",
   "id": "2ad3c8c1",
   "metadata": {},
   "source": [
    "In this lab, we will introduce some simple `Python` commands. \n",
    " For more resources about `Python` in general, readers may want to consult the tutorial at [docs.python.org/3/tutorial/](https://docs.python.org/3/tutorial/). \n",
    "\n",
    "\n",
    " \n"
   ]
  },
  {
   "cell_type": "markdown",
   "id": "b67a6a2a",
   "metadata": {},
   "source": [
    "Like most programming languages, `Python` uses *functions*\n",
    "to perform operations.   To run a\n",
    "function called `fun`, we type\n",
    "`fun(input1,input2)`, where the inputs (or *arguments*)\n",
    "`input1` and `input2` tell\n",
    "`Python` how to run the function.  A function can have any number of\n",
    "inputs. For example, the\n",
    "`print()`  function outputs a text representation of all of its arguments to the console."
   ]
  },
  {
   "cell_type": "code",
   "execution_count": 9,
   "id": "13be547e",
   "metadata": {
    "execution": {
     "iopub.execute_input": "2024-06-05T01:13:21.501766Z",
     "iopub.status.busy": "2024-06-05T01:13:21.501683Z",
     "iopub.status.idle": "2024-06-05T01:13:21.505368Z",
     "shell.execute_reply": "2024-06-05T01:13:21.505103Z"
    }
   },
   "outputs": [
    {
     "name": "stdout",
     "output_type": "stream",
     "text": [
      "fit a model with 11 variables\n"
     ]
    }
   ],
   "source": [
    "print('fit a model with', 11, 'variables')\n"
   ]
  },
  {
   "cell_type": "markdown",
   "id": "01c5778d",
   "metadata": {},
   "source": [
    " The following command will provide information about the `print()` function."
   ]
  },
  {
   "cell_type": "code",
   "execution_count": 10,
   "id": "9eb79b74",
   "metadata": {
    "execution": {
     "iopub.execute_input": "2024-06-05T01:13:21.506820Z",
     "iopub.status.busy": "2024-06-05T01:13:21.506738Z",
     "iopub.status.idle": "2024-06-05T01:13:21.524623Z",
     "shell.execute_reply": "2024-06-05T01:13:21.524324Z"
    }
   },
   "outputs": [
    {
     "name": "stdout",
     "output_type": "stream",
     "text": [
      "\u001b[1;31mDocstring:\u001b[0m\n",
      "print(value, ..., sep=' ', end='\\n', file=sys.stdout, flush=False)\n",
      "\n",
      "Prints the values to a stream, or to sys.stdout by default.\n",
      "Optional keyword arguments:\n",
      "file:  a file-like object (stream); defaults to the current sys.stdout.\n",
      "sep:   string inserted between values, default a space.\n",
      "end:   string appended after the last value, default a newline.\n",
      "flush: whether to forcibly flush the stream.\n",
      "\u001b[1;31mType:\u001b[0m      builtin_function_or_method"
     ]
    }
   ],
   "source": [
    "print?\n"
   ]
  },
  {
   "cell_type": "markdown",
   "id": "e2a8dcaa",
   "metadata": {},
   "source": [
    "Adding two integers in `Python` is pretty intuitive."
   ]
  },
  {
   "cell_type": "code",
   "execution_count": 11,
   "id": "0fb04362",
   "metadata": {
    "execution": {
     "iopub.execute_input": "2024-06-05T01:13:21.526184Z",
     "iopub.status.busy": "2024-06-05T01:13:21.526075Z",
     "iopub.status.idle": "2024-06-05T01:13:21.528792Z",
     "shell.execute_reply": "2024-06-05T01:13:21.528551Z"
    }
   },
   "outputs": [
    {
     "data": {
      "text/plain": [
       "8"
      ]
     },
     "execution_count": 11,
     "metadata": {},
     "output_type": "execute_result"
    }
   ],
   "source": [
    "3 + 5\n"
   ]
  },
  {
   "cell_type": "markdown",
   "id": "df9134a7",
   "metadata": {},
   "source": [
    "In `Python`, textual data is handled using\n",
    "*strings*. For instance, `\"hello\"` and\n",
    "`'hello'`\n",
    "are strings. \n",
    "We can concatenate them using the addition `+` symbol."
   ]
  },
  {
   "cell_type": "code",
   "execution_count": 12,
   "id": "e69d158e",
   "metadata": {
    "execution": {
     "iopub.execute_input": "2024-06-05T01:13:21.530311Z",
     "iopub.status.busy": "2024-06-05T01:13:21.530195Z",
     "iopub.status.idle": "2024-06-05T01:13:21.532255Z",
     "shell.execute_reply": "2024-06-05T01:13:21.532042Z"
    }
   },
   "outputs": [
    {
     "data": {
      "text/plain": [
       "'hello world'"
      ]
     },
     "execution_count": 12,
     "metadata": {},
     "output_type": "execute_result"
    }
   ],
   "source": [
    "\"hello\" + \" \" + \"world\"\n"
   ]
  },
  {
   "cell_type": "markdown",
   "id": "19c59ca8",
   "metadata": {},
   "source": [
    "A string is actually a type of *sequence*: this is a generic term for an ordered list. \n",
    "The four most important types of sequences are: lists, tuples, dictionaries and strings.  \n",
    "\n",
    "We introduce lists now. "
   ]
  },
  {
   "cell_type": "markdown",
   "id": "54a3ab31",
   "metadata": {},
   "source": [
    "The following command instructs `Python` to join together\n",
    "the numbers 3, 4, and 5, and to save them as a\n",
    "*list* named `x`. When we\n",
    "type `x`, it gives us back the list."
   ]
  },
  {
   "cell_type": "code",
   "execution_count": 13,
   "id": "469b6873",
   "metadata": {
    "execution": {
     "iopub.execute_input": "2024-06-05T01:13:21.533676Z",
     "iopub.status.busy": "2024-06-05T01:13:21.533604Z",
     "iopub.status.idle": "2024-06-05T01:13:21.535708Z",
     "shell.execute_reply": "2024-06-05T01:13:21.535479Z"
    }
   },
   "outputs": [
    {
     "data": {
      "text/plain": [
       "[3, 4, 5]"
      ]
     },
     "execution_count": 13,
     "metadata": {},
     "output_type": "execute_result"
    }
   ],
   "source": [
    "x = [3, 4, 5]\n",
    "x\n"
   ]
  },
  {
   "cell_type": "markdown",
   "id": "f7b82627",
   "metadata": {},
   "source": [
    "Note that we used the brackets\n",
    "`[]` to construct this list. \n",
    "\n",
    "We will often want to add two sets of numbers together. It is reasonable to try the following code,\n",
    "though it will not produce the desired results."
   ]
  },
  {
   "cell_type": "code",
   "execution_count": 14,
   "id": "8bcb5c5b",
   "metadata": {
    "execution": {
     "iopub.execute_input": "2024-06-05T01:13:21.536964Z",
     "iopub.status.busy": "2024-06-05T01:13:21.536889Z",
     "iopub.status.idle": "2024-06-05T01:13:21.539316Z",
     "shell.execute_reply": "2024-06-05T01:13:21.539007Z"
    }
   },
   "outputs": [
    {
     "data": {
      "text/plain": [
       "[3, 4, 5, 4, 9, 7]"
      ]
     },
     "execution_count": 14,
     "metadata": {},
     "output_type": "execute_result"
    }
   ],
   "source": [
    "y = [4, 9, 7]\n",
    "x + y\n"
   ]
  },
  {
   "cell_type": "markdown",
   "id": "845910be",
   "metadata": {},
   "source": [
    "The result may appear slightly counterintuitive: why did `Python` not add the entries of the lists\n",
    "element-by-element? \n",
    " In `Python`, lists hold *arbitrary* objects, and  are added using  *concatenation*. \n",
    " In fact, concatenation is the behavior that we saw earlier when we entered `\"hello\" + \" \" + \"world\"`. \n",
    " "
   ]
  },
  {
   "cell_type": "markdown",
   "id": "71c69dd1",
   "metadata": {},
   "source": [
    "Much of `Python`'s  data-specific\n",
    "functionality comes from other packages, notably `numpy`\n",
    "and `pandas`. \n",
    "We will discuss these packages later.\n"
   ]
  },
  {
   "cell_type": "markdown",
   "id": "14e7ddf8",
   "metadata": {},
   "source": [
    "## For Loops\n",
    "A `for` loop is a standard tool in many languages that\n",
    "repeatedly evaluates some chunk of code while\n",
    "varying different values inside the code.\n",
    "For example, suppose we loop over elements of a list and compute their sum."
   ]
  },
  {
   "cell_type": "code",
   "execution_count": 15,
   "id": "c0ad8488",
   "metadata": {
    "execution": {
     "iopub.execute_input": "2024-06-05T01:13:24.435453Z",
     "iopub.status.busy": "2024-06-05T01:13:24.435372Z",
     "iopub.status.idle": "2024-06-05T01:13:24.437109Z",
     "shell.execute_reply": "2024-06-05T01:13:24.436843Z"
    },
    "lines_to_next_cell": 0
   },
   "outputs": [
    {
     "name": "stdout",
     "output_type": "stream",
     "text": [
      "Total is: 24\n"
     ]
    }
   ],
   "source": [
    "total = 0\n",
    "for value in [3,2,19]:\n",
    "    total += value\n",
    "print(f'Total is: {total}')\n"
   ]
  },
  {
   "cell_type": "markdown",
   "id": "c9ce46e8",
   "metadata": {},
   "source": [
    "The indented code beneath the line with the `for` statement is run\n",
    "for each value in the sequence\n",
    "specified in the `for` statement. The loop ends either\n",
    "when the cell ends or when code is indented at the same level\n",
    "as the original `for` statement.\n",
    "We see that the final line above which prints the total is executed\n",
    "only once after the for loop has terminated. Loops\n",
    "can be nested by additional indentation."
   ]
  },
  {
   "cell_type": "code",
   "execution_count": 16,
   "id": "7e0b6a55",
   "metadata": {
    "execution": {
     "iopub.execute_input": "2024-06-05T01:13:24.438521Z",
     "iopub.status.busy": "2024-06-05T01:13:24.438449Z",
     "iopub.status.idle": "2024-06-05T01:13:24.440428Z",
     "shell.execute_reply": "2024-06-05T01:13:24.440188Z"
    },
    "lines_to_next_cell": 0
   },
   "outputs": [
    {
     "name": "stdout",
     "output_type": "stream",
     "text": [
      "Total is: 144\n"
     ]
    }
   ],
   "source": [
    "total = 0\n",
    "for value in [2,3,19]:\n",
    "    for weight in [3, 2, 1]:\n",
    "        total += value * weight\n",
    "print(f'Total is: {total}')"
   ]
  },
  {
   "cell_type": "markdown",
   "id": "503213f0",
   "metadata": {},
   "source": [
    "Above, we summed over each combination of `value` and `weight`.\n",
    "We also took advantage of the *increment* notation\n",
    "in `Python`: the expression `a += b` is equivalent\n",
    "to `a = a + b`. Besides\n",
    "being a convenient notation, this can save time in computationally\n",
    "heavy tasks in which the intermediate value of `a+b` need not\n",
    "be explicitly created.\n",
    "\n",
    "Perhaps a more\n",
    "common task would be to sum over `(value, weight)` pairs. For instance,\n",
    "to compute the average value of a random variable that takes on\n",
    "possible values 2, 3 or 19 with probability 0.2, 0.3, 0.5 respectively\n",
    "we would compute the weighted sum. Tasks such as this\n",
    "can often be accomplished using the `zip()`  function that\n",
    "loops over a sequence of tuples."
   ]
  },
  {
   "cell_type": "code",
   "execution_count": 17,
   "id": "e172967b",
   "metadata": {
    "execution": {
     "iopub.execute_input": "2024-06-05T01:13:24.441636Z",
     "iopub.status.busy": "2024-06-05T01:13:24.441560Z",
     "iopub.status.idle": "2024-06-05T01:13:24.443474Z",
     "shell.execute_reply": "2024-06-05T01:13:24.443262Z"
    }
   },
   "outputs": [
    {
     "name": "stdout",
     "output_type": "stream",
     "text": [
      "Weighted average is: 10.8\n"
     ]
    }
   ],
   "source": [
    "total = 0\n",
    "for value, weight in zip([2,3,19],\n",
    "                         [0.2,0.3,0.5]):\n",
    "    total += weight * value\n",
    "print(f'Weighted average is: {total}')\n"
   ]
  },
  {
   "cell_type": "markdown",
   "id": "2aef4aec",
   "metadata": {},
   "source": [
    "### String Formatting\n",
    "In the code chunk above we printed a string\n",
    "displaying the total. However, the object `total`\n",
    "is an  integer and not a string.\n",
    "Inserting the value of something into\n",
    "a string is a common task, made\n",
    "simple using\n",
    "some of the powerful string formatting\n",
    "tools in `Python`.\n",
    "Many data cleaning tasks involve\n",
    "manipulating and producing strings.\n",
    "\n",
    "For example we may want to loop over the columns of a data frame and\n",
    "print the percent missing in each column.\n",
    "Let’s create a data frame `D` with columns in which 20% of the entries are missing i.e. set\n",
    "to `np.nan`.  We’ll create the\n",
    "values in `D` from a normal distribution with mean 0 and variance 1 using `rng.standard_normal()`\n",
    "and then overwrite some random entries using `rng.choice()`."
   ]
  },
  {
   "cell_type": "code",
   "execution_count": 8,
   "id": "a10adc12",
   "metadata": {
    "execution": {
     "iopub.execute_input": "2024-06-05T01:13:24.444779Z",
     "iopub.status.busy": "2024-06-05T01:13:24.444708Z",
     "iopub.status.idle": "2024-06-05T01:13:24.448724Z",
     "shell.execute_reply": "2024-06-05T01:13:24.448517Z"
    },
    "lines_to_next_cell": 2
   },
   "outputs": [
    {
     "ename": "ModuleNotFoundError",
     "evalue": "No module named 'pandas'",
     "output_type": "error",
     "traceback": [
      "\u001b[1;31m---------------------------------------------------------------------------\u001b[0m",
      "\u001b[1;31mModuleNotFoundError\u001b[0m                       Traceback (most recent call last)",
      "Cell \u001b[1;32mIn[8], line 2\u001b[0m\n\u001b[0;32m      1\u001b[0m \u001b[38;5;28;01mimport\u001b[39;00m \u001b[38;5;21;01mnumpy\u001b[39;00m \u001b[38;5;28;01mas\u001b[39;00m \u001b[38;5;21;01mnp\u001b[39;00m\n\u001b[1;32m----> 2\u001b[0m \u001b[38;5;28;01mimport\u001b[39;00m \u001b[38;5;21;01mpandas\u001b[39;00m \u001b[38;5;28;01mas\u001b[39;00m \u001b[38;5;21;01mpd\u001b[39;00m\n\u001b[0;32m      4\u001b[0m rng \u001b[38;5;241m=\u001b[39m np\u001b[38;5;241m.\u001b[39mrandom\u001b[38;5;241m.\u001b[39mdefault_rng(\u001b[38;5;241m1\u001b[39m)\n\u001b[0;32m      5\u001b[0m A \u001b[38;5;241m=\u001b[39m rng\u001b[38;5;241m.\u001b[39mstandard_normal((\u001b[38;5;241m127\u001b[39m, \u001b[38;5;241m5\u001b[39m))\n",
      "\u001b[1;31mModuleNotFoundError\u001b[0m: No module named 'pandas'"
     ]
    }
   ],
   "source": [
    "import numpy as np\n",
    "import pandas as pd\n",
    "\n",
    "rng = np.random.default_rng(1)\n",
    "A = rng.standard_normal((127, 5))\n",
    "M = rng.choice([0, np.nan], p=[0.8,0.2], size=A.shape)\n",
    "A += M\n",
    "D = pd.DataFrame(A, columns=['food',\n",
    "                             'bar',\n",
    "                             'pickle',\n",
    "                             'snack',\n",
    "                             'popcorn'])\n",
    "D[:3]\n"
   ]
  },
  {
   "cell_type": "code",
   "execution_count": null,
   "id": "a2a202eb",
   "metadata": {
    "execution": {
     "iopub.execute_input": "2024-06-05T01:13:24.450038Z",
     "iopub.status.busy": "2024-06-05T01:13:24.449931Z",
     "iopub.status.idle": "2024-06-05T01:13:24.452280Z",
     "shell.execute_reply": "2024-06-05T01:13:24.452065Z"
    },
    "lines_to_next_cell": 0
   },
   "outputs": [],
   "source": [
    "for col in D.columns:\n",
    "    miss = np.isnan(D[col]).mean()\n",
    "    print(f'Column {col} has {miss:.2%} missing values')"
   ]
  },
  {
   "cell_type": "markdown",
   "id": "c6c994d6",
   "metadata": {},
   "source": [
    "For the second value printed, we specify that it should be expressed as a percent with two decimal digits.\n",
    "\n",
    "The reference\n",
    "[docs.python.org/3/library/string.html](https://docs.python.org/3/library/string.html)\n",
    "includes many helpful and more complex examples."
   ]
  },
  {
   "cell_type": "markdown",
   "id": "ab45bb87",
   "metadata": {},
   "source": [
    "## Dictionaries\n",
    "\n",
    "Another data type that can be useful is dictionaries. As mentioned previously, this is a sequence data type, similar to a string or a list. The material below was adapted from https://developers.google.com/edu/python/dict-files.\n",
    "\n",
    "A dictionary is made up of a series of key:value pairs within braces `{ }`, e.g. dict1 = {key1:value1, key2:value2, ... }. An empty dictionary is represented by an empty pair of curly braces `{}`.\n",
    "\n",
    "Looking up or setting a value in a dict uses square brackets, e.g. dict['foo'] looks up the value under the key 'foo'. Strings, numbers, and tuples work as keys, and any type can be a value. Other types may or may not work correctly as keys (strings and tuples work cleanly since they are immutable). Looking up a value which is not in the dict throws a KeyError -- use the keyword `in` to check if the key is in the dictionary, or use dict.get(key) which returns the value or None if the key is not present."
   ]
  },
  {
   "cell_type": "code",
   "execution_count": null,
   "id": "8b8d9737",
   "metadata": {},
   "outputs": [],
   "source": [
    "# Can build up a dictionary by starting with the empty {}\n",
    "# and storing key/value pairs into the dict like this:\n",
    "# dict[key] = value-for-that-key\n",
    "dict1 = {}\n",
    "dict1['a'] = 'alpha'\n",
    "dict1['g'] = 'gamma'\n",
    "dict1['o'] = 'omega'\n",
    "\n",
    "print(dict1)"
   ]
  },
  {
   "cell_type": "code",
   "execution_count": null,
   "id": "55dea9ed",
   "metadata": {},
   "outputs": [],
   "source": [
    "print(dict1['a'])\n",
    "dict1['a'] = 6      \n",
    "print(dict1['a'])\n",
    "print('a' in dict1)"
   ]
  },
  {
   "cell_type": "code",
   "execution_count": null,
   "id": "a036b5dc",
   "metadata": {},
   "outputs": [],
   "source": [
    "print(dict1['z'])                 "
   ]
  },
  {
   "cell_type": "code",
   "execution_count": null,
   "id": "e1b587a5",
   "metadata": {},
   "outputs": [],
   "source": [
    "if 'z' in dict1: \n",
    "    print(dict1['z'])\n",
    "else:\n",
    "    print(\"z not found\")"
   ]
  },
  {
   "cell_type": "code",
   "execution_count": null,
   "id": "2e9f2454",
   "metadata": {},
   "outputs": [],
   "source": [
    "print(dict1.get('z'))"
   ]
  },
  {
   "cell_type": "markdown",
   "id": "7c9dbbac",
   "metadata": {},
   "source": [
    "A for loop on a dictionary iterates over its keys by default. The methods dict.keys() and dict.values() return lists of the keys or values explicitly. There's also an items() method which returns a list of (key, value) tuples, which is the most efficient way to examine all the key value data in the dictionary."
   ]
  },
  {
   "cell_type": "code",
   "execution_count": null,
   "id": "3ca60a50",
   "metadata": {},
   "outputs": [],
   "source": [
    "for key in dict1:\n",
    "    print(key)\n",
    "\n",
    "# Same as above\n",
    "for key in dict1.keys():\n",
    "    print(key)\n",
    "\n",
    "# Get a list of keys\n",
    "print(list(dict1.keys()))\n",
    "\n",
    "# Get a list of values\n",
    "print(list(dict1.values()))"
   ]
  },
  {
   "cell_type": "code",
   "execution_count": null,
   "id": "8032c902",
   "metadata": {},
   "outputs": [],
   "source": [
    "# Common case -- loop over the keys in sorted order, to access each key/value pair\n",
    "for key in sorted(dict1.keys()):\n",
    "    print(key, dict1[key])\n",
    "\n",
    "# .items() is the dictionary expressed as (key, value) tuples\n",
    "print(list(dict1.items()))\n",
    "\n",
    "# This loop syntax accesses the whole dict by looping over the .items() tuple list, \n",
    "# accessing one (key, value) pair on each iteration\n",
    "for k, v in dict1.items(): \n",
    "    print(k, '>', v)"
   ]
  },
  {
   "cell_type": "markdown",
   "id": "a1b40bf9",
   "metadata": {},
   "source": [
    "## Functions\n",
    "At the beginning of this lab, we mentioned how Python uses many different built-in functions. You can also create your own functions, to use in the main body of your code. Below is a simple function that is used to print the largest input to the screen:"
   ]
  },
  {
   "cell_type": "code",
   "execution_count": null,
   "id": "3c4b25d7",
   "metadata": {},
   "outputs": [],
   "source": [
    "def func(input1, input2):\n",
    "    if input1 > input2:\n",
    "        print(input1)\n",
    "    else:\n",
    "        print(input2)\n",
    "        \n",
    "func(4,5)"
   ]
  },
  {
   "cell_type": "markdown",
   "id": "e75dd55e",
   "metadata": {},
   "source": [
    "The previous example did not return any values, since it printed the desired value to the screen. Let's repeat the previous example, except now we return the largest value:"
   ]
  },
  {
   "cell_type": "code",
   "execution_count": null,
   "id": "bb8b5d3c",
   "metadata": {},
   "outputs": [],
   "source": [
    "def func(input1, input2):\n",
    "    if input1 > input2:\n",
    "        return input1\n",
    "    else:\n",
    "        return input2\n",
    "        \n",
    "max1 = func(4,5)\n",
    "print(\"The maximum value is:\", max1)"
   ]
  },
  {
   "cell_type": "markdown",
   "id": "9659f008",
   "metadata": {},
   "source": [
    "## Introduction to Numerical Python\n",
    "\n",
    "As mentioned earlier, this book makes use of functionality   that is contained in the `numpy` \n",
    " *library*, or *package*. A package is a collection of modules that are not necessarily included in \n",
    " the base `Python` distribution. The name `numpy` is an abbreviation for *numerical Python*. \n",
    " \n",
    "See [docs.scipy.org/doc/numpy/user/quickstart.html](https://docs.scipy.org/doc/numpy/user/quickstart.html) for more information about `numpy`."
   ]
  },
  {
   "cell_type": "markdown",
   "id": "0bdfdebb",
   "metadata": {},
   "source": [
    "  To access `numpy`, we must first `import` it."
   ]
  },
  {
   "cell_type": "code",
   "execution_count": null,
   "id": "ac55fedf",
   "metadata": {
    "execution": {
     "iopub.execute_input": "2024-06-05T01:13:21.541265Z",
     "iopub.status.busy": "2024-06-05T01:13:21.541131Z",
     "iopub.status.idle": "2024-06-05T01:13:21.623379Z",
     "shell.execute_reply": "2024-06-05T01:13:21.610113Z"
    },
    "lines_to_next_cell": 0
   },
   "outputs": [],
   "source": [
    "import numpy as np "
   ]
  },
  {
   "cell_type": "markdown",
   "id": "092028f8",
   "metadata": {},
   "source": [
    "In the previous line, we named the `numpy` *module* `np`; an abbreviation for easier referencing."
   ]
  },
  {
   "cell_type": "markdown",
   "id": "4f513f46",
   "metadata": {},
   "source": [
    "In `numpy`, an *array* is  a generic term for a multidimensional\n",
    "set of numbers.\n",
    "We use the `np.array()` function to define   `x` and `y`, which are one-dimensional arrays, i.e. vectors."
   ]
  },
  {
   "cell_type": "code",
   "execution_count": null,
   "id": "c4d9f140",
   "metadata": {
    "execution": {
     "iopub.execute_input": "2024-06-05T01:13:21.637526Z",
     "iopub.status.busy": "2024-06-05T01:13:21.637154Z",
     "iopub.status.idle": "2024-06-05T01:13:21.640699Z",
     "shell.execute_reply": "2024-06-05T01:13:21.640168Z"
    },
    "lines_to_next_cell": 0
   },
   "outputs": [],
   "source": [
    "x = np.array([3, 4, 5])\n",
    "y = np.array([4, 9, 7])"
   ]
  },
  {
   "cell_type": "markdown",
   "id": "16e9ebc2",
   "metadata": {},
   "source": [
    "Note that if you forgot to run the `import numpy as np` command earlier, then\n",
    "you will encounter an error in calling the `np.array()` function in the previous line. \n",
    " The syntax `np.array()` indicates that the function being called\n",
    "is part of the `numpy` package, which we have abbreviated as `np`. "
   ]
  },
  {
   "cell_type": "markdown",
   "id": "1a8239ac",
   "metadata": {},
   "source": [
    "Since `x` and `y` have been defined using `np.array()`, we get a sensible result when we add them together. Compare this to our results in the previous section,\n",
    " when we tried to add two lists without using `numpy`. "
   ]
  },
  {
   "cell_type": "code",
   "execution_count": null,
   "id": "106ef1ea",
   "metadata": {
    "execution": {
     "iopub.execute_input": "2024-06-05T01:13:21.644348Z",
     "iopub.status.busy": "2024-06-05T01:13:21.643939Z",
     "iopub.status.idle": "2024-06-05T01:13:21.647973Z",
     "shell.execute_reply": "2024-06-05T01:13:21.647309Z"
    },
    "lines_to_next_cell": 0
   },
   "outputs": [],
   "source": [
    "x + y"
   ]
  },
  {
   "cell_type": "markdown",
   "id": "0135aa6b",
   "metadata": {},
   "source": [
    "    \n",
    " \n"
   ]
  },
  {
   "cell_type": "markdown",
   "id": "865711ef",
   "metadata": {},
   "source": [
    "In `numpy`, matrices are typically represented as two-dimensional arrays, and vectors as one-dimensional arrays. {While it is also possible to create matrices using  `np.matrix()`, we will use `np.array()` throughout the labs in this book.}\n",
    "We can create a two-dimensional array as follows. "
   ]
  },
  {
   "cell_type": "code",
   "execution_count": null,
   "id": "d111ed03",
   "metadata": {
    "execution": {
     "iopub.execute_input": "2024-06-05T01:13:21.654955Z",
     "iopub.status.busy": "2024-06-05T01:13:21.654830Z",
     "iopub.status.idle": "2024-06-05T01:13:21.658607Z",
     "shell.execute_reply": "2024-06-05T01:13:21.658268Z"
    },
    "lines_to_next_cell": 0
   },
   "outputs": [],
   "source": [
    "x = np.array([[1, 2], [3, 4]])\n",
    "x"
   ]
  },
  {
   "cell_type": "markdown",
   "id": "b8e25756",
   "metadata": {},
   "source": [
    "    \n",
    "\n"
   ]
  },
  {
   "cell_type": "markdown",
   "id": "be9f88c2",
   "metadata": {},
   "source": [
    "The object `x` has several \n",
    "*attributes*, or associated objects. To access an attribute of `x`, we type `x.attribute`, where we replace `attribute`\n",
    "with the name of the attribute. \n",
    "For instance, we can access the `ndim` attribute of  `x` as follows. "
   ]
  },
  {
   "cell_type": "code",
   "execution_count": null,
   "id": "d9562687",
   "metadata": {
    "execution": {
     "iopub.execute_input": "2024-06-05T01:13:21.662782Z",
     "iopub.status.busy": "2024-06-05T01:13:21.662526Z",
     "iopub.status.idle": "2024-06-05T01:13:21.665986Z",
     "shell.execute_reply": "2024-06-05T01:13:21.665545Z"
    }
   },
   "outputs": [],
   "source": [
    "x.ndim"
   ]
  },
  {
   "cell_type": "markdown",
   "id": "e7384a93",
   "metadata": {},
   "source": [
    "The output indicates that `x` is a two-dimensional array.  \n",
    "Similarly, `x.dtype` is the *data type* attribute of the object `x`. This indicates that `x` is \n",
    "comprised of 64-bit integers:"
   ]
  },
  {
   "cell_type": "code",
   "execution_count": null,
   "id": "4fe5b7cf",
   "metadata": {
    "execution": {
     "iopub.execute_input": "2024-06-05T01:13:21.669473Z",
     "iopub.status.busy": "2024-06-05T01:13:21.668930Z",
     "iopub.status.idle": "2024-06-05T01:13:21.673438Z",
     "shell.execute_reply": "2024-06-05T01:13:21.672894Z"
    },
    "lines_to_next_cell": 0
   },
   "outputs": [],
   "source": [
    "x.dtype"
   ]
  },
  {
   "cell_type": "markdown",
   "id": "94c2f16a",
   "metadata": {},
   "source": [
    "Why is `x` comprised of integers? This is because we created `x` by passing in exclusively integers to the `np.array()` function.\n",
    "  If\n",
    "we had passed in any decimals, then we would have obtained an array of\n",
    "*floating point numbers* (i.e. real-valued numbers). "
   ]
  },
  {
   "cell_type": "code",
   "execution_count": null,
   "id": "c4c43c7d",
   "metadata": {
    "execution": {
     "iopub.execute_input": "2024-06-05T01:13:21.676213Z",
     "iopub.status.busy": "2024-06-05T01:13:21.676017Z",
     "iopub.status.idle": "2024-06-05T01:13:21.679945Z",
     "shell.execute_reply": "2024-06-05T01:13:21.679456Z"
    },
    "lines_to_next_cell": 2
   },
   "outputs": [],
   "source": [
    "np.array([[1, 2], [3.0, 4]]).dtype\n"
   ]
  },
  {
   "cell_type": "markdown",
   "id": "fba26223",
   "metadata": {},
   "source": [
    "Typing `fun?` will cause `Python` to display \n",
    "documentation associated with the function `fun`, if it exists.\n",
    "We can try this for `np.array()`. "
   ]
  },
  {
   "cell_type": "code",
   "execution_count": null,
   "id": "62851cb3",
   "metadata": {
    "execution": {
     "iopub.execute_input": "2024-06-05T01:13:21.682591Z",
     "iopub.status.busy": "2024-06-05T01:13:21.682418Z",
     "iopub.status.idle": "2024-06-05T01:13:21.685681Z",
     "shell.execute_reply": "2024-06-05T01:13:21.685193Z"
    },
    "lines_to_next_cell": 0
   },
   "outputs": [],
   "source": [
    "np.array?\n"
   ]
  },
  {
   "cell_type": "markdown",
   "id": "d89ca747",
   "metadata": {},
   "source": [
    "This documentation indicates that we could create a floating point array by passing a `dtype` argument into `np.array()`."
   ]
  },
  {
   "cell_type": "code",
   "execution_count": null,
   "id": "816dac08",
   "metadata": {
    "execution": {
     "iopub.execute_input": "2024-06-05T01:13:21.688520Z",
     "iopub.status.busy": "2024-06-05T01:13:21.688302Z",
     "iopub.status.idle": "2024-06-05T01:13:21.692577Z",
     "shell.execute_reply": "2024-06-05T01:13:21.692040Z"
    },
    "lines_to_next_cell": 2
   },
   "outputs": [],
   "source": [
    "np.array([[1, 2], [3, 4]], float).dtype\n"
   ]
  },
  {
   "cell_type": "markdown",
   "id": "8e640e48",
   "metadata": {},
   "source": [
    "The array `x` is two-dimensional. We can find out the number of rows and columns by looking\n",
    "at its `shape` attribute."
   ]
  },
  {
   "cell_type": "code",
   "execution_count": null,
   "id": "9a81115b",
   "metadata": {
    "execution": {
     "iopub.execute_input": "2024-06-05T01:13:21.695300Z",
     "iopub.status.busy": "2024-06-05T01:13:21.695057Z",
     "iopub.status.idle": "2024-06-05T01:13:21.698705Z",
     "shell.execute_reply": "2024-06-05T01:13:21.698186Z"
    },
    "lines_to_next_cell": 2
   },
   "outputs": [],
   "source": [
    "x.shape\n"
   ]
  },
  {
   "cell_type": "markdown",
   "id": "af33afab",
   "metadata": {},
   "source": [
    "A *method* is a function that is associated with an\n",
    "object. \n",
    "For instance, given an array `x`, the expression\n",
    "`x.sum()` sums all of its elements, using the `sum()`\n",
    "method for arrays. \n",
    "The call `x.sum()` automatically provides `x` as the\n",
    "first argument to its `sum()` method."
   ]
  },
  {
   "cell_type": "code",
   "execution_count": null,
   "id": "8f051245",
   "metadata": {
    "execution": {
     "iopub.execute_input": "2024-06-05T01:13:21.701395Z",
     "iopub.status.busy": "2024-06-05T01:13:21.701161Z",
     "iopub.status.idle": "2024-06-05T01:13:21.705627Z",
     "shell.execute_reply": "2024-06-05T01:13:21.705062Z"
    },
    "lines_to_next_cell": 0
   },
   "outputs": [],
   "source": [
    "x = np.array([1, 2, 3, 4])\n",
    "x.sum()"
   ]
  },
  {
   "cell_type": "markdown",
   "id": "dac9e21a",
   "metadata": {},
   "source": [
    "We could also sum the elements of `x` by passing in `x` as an argument to the `np.sum()` function. "
   ]
  },
  {
   "cell_type": "code",
   "execution_count": null,
   "id": "906c3a0e",
   "metadata": {
    "execution": {
     "iopub.execute_input": "2024-06-05T01:13:21.708607Z",
     "iopub.status.busy": "2024-06-05T01:13:21.708219Z",
     "iopub.status.idle": "2024-06-05T01:13:21.712557Z",
     "shell.execute_reply": "2024-06-05T01:13:21.712089Z"
    },
    "lines_to_next_cell": 0
   },
   "outputs": [],
   "source": [
    "x = np.array([1, 2, 3, 4])\n",
    "np.sum(x)"
   ]
  },
  {
   "cell_type": "markdown",
   "id": "699724d1",
   "metadata": {},
   "source": [
    " As another example, the\n",
    "`reshape()` method returns a new array with the same elements as\n",
    "`x`, but a different shape.\n",
    " We do this by passing in a `tuple` in our call to\n",
    " `reshape()`, in this case `(2, 3)`.  This tuple specifies that we would like to create a two-dimensional array with \n",
    "$2$ rows and $3$ columns. {Like lists, tuples represent a sequence of objects. Why do we need more than one way to create a sequence? There are a few differences between tuples and lists, but perhaps the most important is that elements of a tuple cannot be modified, whereas elements of a list can be.}\n",
    " \n",
    "In what follows, the\n",
    "`\\n` character creates a *new line*."
   ]
  },
  {
   "cell_type": "code",
   "execution_count": null,
   "id": "e8b8d6db",
   "metadata": {
    "execution": {
     "iopub.execute_input": "2024-06-05T01:13:21.715524Z",
     "iopub.status.busy": "2024-06-05T01:13:21.715284Z",
     "iopub.status.idle": "2024-06-05T01:13:21.719375Z",
     "shell.execute_reply": "2024-06-05T01:13:21.718798Z"
    }
   },
   "outputs": [],
   "source": [
    "x = np.array([1, 2, 3, 4, 5, 6])\n",
    "print('beginning x:\\n', x)\n",
    "x_reshape = x.reshape((2, 3))\n",
    "print('reshaped x:\\n', x_reshape)\n"
   ]
  },
  {
   "cell_type": "markdown",
   "id": "1ac636e5",
   "metadata": {},
   "source": [
    "The previous output reveals that `numpy` arrays are specified as a sequence\n",
    "of *rows*. This is  called *row-major ordering*, as opposed to *column-major ordering*. "
   ]
  },
  {
   "cell_type": "markdown",
   "id": "0dbc4613",
   "metadata": {},
   "source": [
    "`Python` (and hence `numpy`) uses 0-based\n",
    "indexing. This means that to access the top left element of `x_reshape`, \n",
    "we type in `x_reshape[0,0]`."
   ]
  },
  {
   "cell_type": "code",
   "execution_count": null,
   "id": "47c39f33",
   "metadata": {
    "execution": {
     "iopub.execute_input": "2024-06-05T01:13:21.723002Z",
     "iopub.status.busy": "2024-06-05T01:13:21.722758Z",
     "iopub.status.idle": "2024-06-05T01:13:21.726457Z",
     "shell.execute_reply": "2024-06-05T01:13:21.725971Z"
    },
    "lines_to_next_cell": 0
   },
   "outputs": [],
   "source": [
    "x_reshape[0, 0] "
   ]
  },
  {
   "cell_type": "markdown",
   "id": "883bc5b3",
   "metadata": {},
   "source": [
    "Similarly, `x_reshape[1,2]` yields the element in the second row and the third column \n",
    "of `x_reshape`. "
   ]
  },
  {
   "cell_type": "code",
   "execution_count": null,
   "id": "d74a5638",
   "metadata": {
    "execution": {
     "iopub.execute_input": "2024-06-05T01:13:21.729274Z",
     "iopub.status.busy": "2024-06-05T01:13:21.729045Z",
     "iopub.status.idle": "2024-06-05T01:13:21.733265Z",
     "shell.execute_reply": "2024-06-05T01:13:21.732407Z"
    },
    "lines_to_next_cell": 0
   },
   "outputs": [],
   "source": [
    "x_reshape[1, 2] "
   ]
  },
  {
   "cell_type": "markdown",
   "id": "4ff98255",
   "metadata": {},
   "source": [
    "Similarly, `x[2]` yields the\n",
    "third entry of `x`. \n",
    "\n",
    "Now, let's modify the top left element of `x_reshape`.  To our surprise, we discover that the first element of `x` has been modified as well!\n",
    "\n"
   ]
  },
  {
   "cell_type": "code",
   "execution_count": null,
   "id": "5a19217f",
   "metadata": {
    "execution": {
     "iopub.execute_input": "2024-06-05T01:13:21.737696Z",
     "iopub.status.busy": "2024-06-05T01:13:21.737395Z",
     "iopub.status.idle": "2024-06-05T01:13:21.742687Z",
     "shell.execute_reply": "2024-06-05T01:13:21.741342Z"
    }
   },
   "outputs": [],
   "source": [
    "print('x before we modify x_reshape:\\n', x)\n",
    "print('x_reshape before we modify x_reshape:\\n', x_reshape)\n",
    "x_reshape[0, 0] = 5\n",
    "print('x_reshape after we modify its top left element:\\n', x_reshape)\n",
    "print('x after we modify top left element of x_reshape:\\n', x)\n"
   ]
  },
  {
   "cell_type": "markdown",
   "id": "027b7f16",
   "metadata": {},
   "source": [
    "Modifying `x_reshape` also modified `x` because the two objects occupy the same space in memory.\n",
    " \n",
    "\n",
    "    "
   ]
  },
  {
   "cell_type": "markdown",
   "id": "ea7dec33",
   "metadata": {},
   "source": [
    "We just saw that we can modify an element of an array. Can we also modify a tuple? It turns out that we cannot --- and trying to do so introduces an *exception*, or error. This is because tuples are *immutable*, compared to lists, dictionaries and arrays that are *mutable*."
   ]
  },
  {
   "cell_type": "code",
   "execution_count": null,
   "id": "116ec7b8",
   "metadata": {
    "execution": {
     "iopub.execute_input": "2024-06-05T01:13:21.749078Z",
     "iopub.status.busy": "2024-06-05T01:13:21.748796Z",
     "iopub.status.idle": "2024-06-05T01:13:21.837133Z",
     "shell.execute_reply": "2024-06-05T01:13:21.836870Z"
    },
    "lines_to_next_cell": 2
   },
   "outputs": [],
   "source": [
    "my_tuple = (3, 4, 5)\n",
    "my_tuple[0] = 2\n"
   ]
  },
  {
   "cell_type": "markdown",
   "id": "484ae7d1",
   "metadata": {},
   "source": [
    "We now briefly mention some attributes of arrays that will come in handy. An array's `shape` attribute contains its dimension; this is always a tuple.\n",
    "The  `ndim` attribute yields the number of dimensions, and `T` provides its transpose. "
   ]
  },
  {
   "cell_type": "code",
   "execution_count": null,
   "id": "ec5dc91e",
   "metadata": {
    "execution": {
     "iopub.execute_input": "2024-06-05T01:13:21.838869Z",
     "iopub.status.busy": "2024-06-05T01:13:21.838746Z",
     "iopub.status.idle": "2024-06-05T01:13:21.840973Z",
     "shell.execute_reply": "2024-06-05T01:13:21.840747Z"
    }
   },
   "outputs": [],
   "source": [
    "x_reshape.shape, x_reshape.ndim, x_reshape.T\n"
   ]
  },
  {
   "cell_type": "markdown",
   "id": "a7aa0555",
   "metadata": {},
   "source": [
    "Notice that the three individual outputs `(2,3)`, `2`, and `array([[5, 4],[2, 5], [3,6]])` are themselves output as a tuple. \n",
    " \n",
    "We will often want to apply functions to arrays. \n",
    "For instance, we can compute the\n",
    "square root of the entries using the `np.sqrt()` function: "
   ]
  },
  {
   "cell_type": "code",
   "execution_count": null,
   "id": "31fbaf86",
   "metadata": {
    "execution": {
     "iopub.execute_input": "2024-06-05T01:13:21.842256Z",
     "iopub.status.busy": "2024-06-05T01:13:21.842155Z",
     "iopub.status.idle": "2024-06-05T01:13:21.844341Z",
     "shell.execute_reply": "2024-06-05T01:13:21.844095Z"
    }
   },
   "outputs": [],
   "source": [
    "np.sqrt(x)\n"
   ]
  },
  {
   "cell_type": "markdown",
   "id": "83bd2725",
   "metadata": {},
   "source": [
    "We can also square the elements:"
   ]
  },
  {
   "cell_type": "code",
   "execution_count": null,
   "id": "c0e63f89",
   "metadata": {
    "execution": {
     "iopub.execute_input": "2024-06-05T01:13:21.845842Z",
     "iopub.status.busy": "2024-06-05T01:13:21.845683Z",
     "iopub.status.idle": "2024-06-05T01:13:21.847796Z",
     "shell.execute_reply": "2024-06-05T01:13:21.847578Z"
    }
   },
   "outputs": [],
   "source": [
    "x**2\n"
   ]
  },
  {
   "cell_type": "markdown",
   "id": "bc4bfbf4",
   "metadata": {},
   "source": [
    "We can compute the square roots using the same notation, raising to the power of $1/2$ instead of 2."
   ]
  },
  {
   "cell_type": "code",
   "execution_count": null,
   "id": "365d1248",
   "metadata": {
    "execution": {
     "iopub.execute_input": "2024-06-05T01:13:21.848925Z",
     "iopub.status.busy": "2024-06-05T01:13:21.848841Z",
     "iopub.status.idle": "2024-06-05T01:13:21.850823Z",
     "shell.execute_reply": "2024-06-05T01:13:21.850640Z"
    },
    "lines_to_next_cell": 2
   },
   "outputs": [],
   "source": [
    "x**0.5\n"
   ]
  },
  {
   "cell_type": "markdown",
   "id": "ae4a5f89",
   "metadata": {},
   "source": [
    "Throughout the textbook, we will often want to generate random data. \n",
    "The `np.random.normal()`  function generates a vector of random\n",
    "normal variables. We can learn more about this function by looking at the help page, via a call to `np.random.normal?`.\n",
    "The first line of the help page  reads `normal(loc=0.0, scale=1.0, size=None)`. \n",
    " This  *signature* line tells us that the function's arguments are  `loc`, `scale`, and `size`. These are *keyword* arguments, which means that when they are passed into\n",
    " the function, they can be referred to by name (in any order). {`Python` also uses *positional* arguments. Positional arguments do not need to use a keyword. To see an example, type in `np.sum?`. We see that `a` is a positional argument, i.e. this function assumes that the first unnamed argument that it receives is the array to be summed. By contrast, `axis` and `dtype` are keyword arguments: the position in which these arguments are entered into `np.sum()` does not matter.}\n",
    " By default, this function will generate random normal variable(s) with mean (`loc`) $0$ and standard deviation (`scale`) $1$; furthermore, \n",
    " a single random variable will be generated unless the argument to `size` is changed. \n",
    "\n",
    "We now generate 50 independent random variables from a $N(0,1)$ distribution. "
   ]
  },
  {
   "cell_type": "code",
   "execution_count": null,
   "id": "e2756bb9",
   "metadata": {
    "execution": {
     "iopub.execute_input": "2024-06-05T01:13:21.852136Z",
     "iopub.status.busy": "2024-06-05T01:13:21.852038Z",
     "iopub.status.idle": "2024-06-05T01:13:21.854307Z",
     "shell.execute_reply": "2024-06-05T01:13:21.854071Z"
    }
   },
   "outputs": [],
   "source": [
    "x = np.random.normal(size=50)\n",
    "x\n"
   ]
  },
  {
   "cell_type": "markdown",
   "id": "3ede7b52",
   "metadata": {},
   "source": [
    "We create an array `y` by adding an independent $N(50,1)$ random variable to each element of `x`."
   ]
  },
  {
   "cell_type": "code",
   "execution_count": null,
   "id": "d336dde1",
   "metadata": {
    "execution": {
     "iopub.execute_input": "2024-06-05T01:13:21.856931Z",
     "iopub.status.busy": "2024-06-05T01:13:21.856831Z",
     "iopub.status.idle": "2024-06-05T01:13:21.858521Z",
     "shell.execute_reply": "2024-06-05T01:13:21.858270Z"
    },
    "lines_to_next_cell": 0
   },
   "outputs": [],
   "source": [
    "y = x + np.random.normal(loc=50, scale=1, size=50)"
   ]
  },
  {
   "cell_type": "markdown",
   "id": "53428bb4",
   "metadata": {},
   "source": [
    "The `np.corrcoef()` function computes the correlation matrix between `x` and `y`. The off-diagonal elements give the \n",
    "correlation between `x` and `y`. "
   ]
  },
  {
   "cell_type": "code",
   "execution_count": null,
   "id": "cad26f2b",
   "metadata": {
    "execution": {
     "iopub.execute_input": "2024-06-05T01:13:21.859935Z",
     "iopub.status.busy": "2024-06-05T01:13:21.859837Z",
     "iopub.status.idle": "2024-06-05T01:13:21.861977Z",
     "shell.execute_reply": "2024-06-05T01:13:21.861747Z"
    }
   },
   "outputs": [],
   "source": [
    "np.corrcoef(x, y)"
   ]
  },
  {
   "cell_type": "markdown",
   "id": "69e56b17",
   "metadata": {},
   "source": [
    "If you're following along in your own `Jupyter` notebook, then you probably noticed that you got a different set of results when you ran the past few \n",
    "commands. In particular, \n",
    " each\n",
    "time we call `np.random.normal()`, we will get a different answer, as shown in the following example."
   ]
  },
  {
   "cell_type": "code",
   "execution_count": null,
   "id": "a621aa6c",
   "metadata": {
    "execution": {
     "iopub.execute_input": "2024-06-05T01:13:21.863299Z",
     "iopub.status.busy": "2024-06-05T01:13:21.863206Z",
     "iopub.status.idle": "2024-06-05T01:13:21.865015Z",
     "shell.execute_reply": "2024-06-05T01:13:21.864730Z"
    },
    "lines_to_next_cell": 0
   },
   "outputs": [],
   "source": [
    "print(np.random.normal(scale=5, size=2))\n",
    "print(np.random.normal(scale=5, size=2)) \n"
   ]
  },
  {
   "cell_type": "markdown",
   "id": "ca8af484",
   "metadata": {},
   "source": [
    "    "
   ]
  },
  {
   "cell_type": "markdown",
   "id": "ab2a78f2",
   "metadata": {},
   "source": [
    "In order to ensure that our code provides exactly the same results\n",
    "each time it is run, we can set a *random seed* \n",
    "using the \n",
    "`np.random.default_rng()` function.\n",
    "This function takes an arbitrary, user-specified integer argument. If we set a random seed before \n",
    "generating random data, then re-running our code will yield the same results. The\n",
    "object `rng` has essentially all the random number generating methods found in `np.random`. Hence, to\n",
    "generate normal data we use `rng.normal()`."
   ]
  },
  {
   "cell_type": "code",
   "execution_count": null,
   "id": "8b4cf04d",
   "metadata": {
    "execution": {
     "iopub.execute_input": "2024-06-05T01:13:21.866527Z",
     "iopub.status.busy": "2024-06-05T01:13:21.866407Z",
     "iopub.status.idle": "2024-06-05T01:13:21.868523Z",
     "shell.execute_reply": "2024-06-05T01:13:21.868290Z"
    }
   },
   "outputs": [],
   "source": [
    "rng = np.random.default_rng(1303)\n",
    "print(rng.normal(scale=5, size=2))\n",
    "rng2 = np.random.default_rng(1303)\n",
    "print(rng2.normal(scale=5, size=2)) "
   ]
  },
  {
   "cell_type": "markdown",
   "id": "e2b7be44",
   "metadata": {},
   "source": [
    "The `np.mean()`,  `np.var()`, and `np.std()`  functions can be used\n",
    "to compute the mean, variance, and standard deviation of arrays.  These functions are also\n",
    "available as methods on the arrays."
   ]
  },
  {
   "cell_type": "code",
   "execution_count": null,
   "id": "4b80757c",
   "metadata": {
    "execution": {
     "iopub.execute_input": "2024-06-05T01:13:21.869817Z",
     "iopub.status.busy": "2024-06-05T01:13:21.869734Z",
     "iopub.status.idle": "2024-06-05T01:13:21.871794Z",
     "shell.execute_reply": "2024-06-05T01:13:21.871580Z"
    },
    "lines_to_next_cell": 0
   },
   "outputs": [],
   "source": [
    "rng = np.random.default_rng(3)\n",
    "y = rng.standard_normal(10)\n",
    "np.mean(y), y.mean()"
   ]
  },
  {
   "cell_type": "markdown",
   "id": "89f3df11",
   "metadata": {},
   "source": [
    "    \n"
   ]
  },
  {
   "cell_type": "code",
   "execution_count": null,
   "id": "1e06f53d",
   "metadata": {
    "execution": {
     "iopub.execute_input": "2024-06-05T01:13:21.873319Z",
     "iopub.status.busy": "2024-06-05T01:13:21.873222Z",
     "iopub.status.idle": "2024-06-05T01:13:21.875364Z",
     "shell.execute_reply": "2024-06-05T01:13:21.875114Z"
    },
    "lines_to_next_cell": 2
   },
   "outputs": [],
   "source": [
    "np.var(y), y.var(), np.mean((y - y.mean())**2)"
   ]
  },
  {
   "cell_type": "code",
   "execution_count": null,
   "id": "2499a37e",
   "metadata": {
    "execution": {
     "iopub.execute_input": "2024-06-05T01:13:21.876542Z",
     "iopub.status.busy": "2024-06-05T01:13:21.876445Z",
     "iopub.status.idle": "2024-06-05T01:13:21.878423Z",
     "shell.execute_reply": "2024-06-05T01:13:21.878185Z"
    }
   },
   "outputs": [],
   "source": [
    "np.sqrt(np.var(y)), np.std(y)"
   ]
  },
  {
   "cell_type": "markdown",
   "id": "cd24656d",
   "metadata": {},
   "source": [
    "The `np.mean()`,  `np.var()`, and `np.std()` functions can also be applied to the rows and columns of a matrix. \n",
    "To see this, we construct a $10 \\times 3$ matrix of $N(0,1)$ random variables, and consider computing its row sums. "
   ]
  },
  {
   "cell_type": "code",
   "execution_count": null,
   "id": "3c308346",
   "metadata": {
    "execution": {
     "iopub.execute_input": "2024-06-05T01:13:21.879714Z",
     "iopub.status.busy": "2024-06-05T01:13:21.879626Z",
     "iopub.status.idle": "2024-06-05T01:13:21.881633Z",
     "shell.execute_reply": "2024-06-05T01:13:21.881427Z"
    }
   },
   "outputs": [],
   "source": [
    "X = rng.standard_normal((10, 3))\n",
    "X"
   ]
  },
  {
   "cell_type": "markdown",
   "id": "11b499e9",
   "metadata": {},
   "source": [
    "Since arrays are row-major ordered, the first axis, i.e. `axis=0`, refers to its rows. We pass this argument into the `mean()` method for the object `X`. "
   ]
  },
  {
   "cell_type": "code",
   "execution_count": null,
   "id": "7b5e8fcd",
   "metadata": {
    "execution": {
     "iopub.execute_input": "2024-06-05T01:13:21.882917Z",
     "iopub.status.busy": "2024-06-05T01:13:21.882831Z",
     "iopub.status.idle": "2024-06-05T01:13:21.884797Z",
     "shell.execute_reply": "2024-06-05T01:13:21.884581Z"
    }
   },
   "outputs": [],
   "source": [
    "X.mean(axis=0)"
   ]
  },
  {
   "cell_type": "markdown",
   "id": "d2617ab3",
   "metadata": {},
   "source": [
    "The following yields the same result."
   ]
  },
  {
   "cell_type": "code",
   "execution_count": null,
   "id": "157d4a21",
   "metadata": {
    "execution": {
     "iopub.execute_input": "2024-06-05T01:13:21.886134Z",
     "iopub.status.busy": "2024-06-05T01:13:21.886054Z",
     "iopub.status.idle": "2024-06-05T01:13:21.888025Z",
     "shell.execute_reply": "2024-06-05T01:13:21.887817Z"
    },
    "lines_to_next_cell": 0
   },
   "outputs": [],
   "source": [
    "X.mean(0)"
   ]
  },
  {
   "cell_type": "markdown",
   "id": "66e0fac9",
   "metadata": {},
   "source": [
    "If we want to do the same calculation for each column:"
   ]
  },
  {
   "cell_type": "code",
   "execution_count": null,
   "id": "278af26d",
   "metadata": {},
   "outputs": [],
   "source": [
    "X.mean(axis=1)"
   ]
  },
  {
   "cell_type": "markdown",
   "id": "146e2908",
   "metadata": {},
   "source": [
    "## Sequences and Slice Notation"
   ]
  },
  {
   "cell_type": "markdown",
   "id": "cf87b169",
   "metadata": {},
   "source": [
    "The function `np.linspace()` can be used to create a sequence of numbers."
   ]
  },
  {
   "cell_type": "code",
   "execution_count": null,
   "id": "7acc86b8",
   "metadata": {
    "execution": {
     "iopub.execute_input": "2024-06-05T01:13:24.058049Z",
     "iopub.status.busy": "2024-06-05T01:13:24.057942Z",
     "iopub.status.idle": "2024-06-05T01:13:24.060262Z",
     "shell.execute_reply": "2024-06-05T01:13:24.060017Z"
    },
    "lines_to_next_cell": 2
   },
   "outputs": [],
   "source": [
    "seq1 = np.linspace(0, 10, 11)\n",
    "seq1\n"
   ]
  },
  {
   "cell_type": "markdown",
   "id": "220f1712",
   "metadata": {},
   "source": [
    "The function `np.arange()`\n",
    " returns a sequence of numbers spaced out by `step`. If `step` is not specified, then a default value of $1$ is used. Let's create a sequence\n",
    " that starts at $0$ and ends at $10$."
   ]
  },
  {
   "cell_type": "code",
   "execution_count": null,
   "id": "a4615b0e",
   "metadata": {
    "execution": {
     "iopub.execute_input": "2024-06-05T01:13:24.061789Z",
     "iopub.status.busy": "2024-06-05T01:13:24.061666Z",
     "iopub.status.idle": "2024-06-05T01:13:24.063954Z",
     "shell.execute_reply": "2024-06-05T01:13:24.063674Z"
    }
   },
   "outputs": [],
   "source": [
    "seq2 = np.arange(0, 10)\n",
    "seq2\n"
   ]
  },
  {
   "cell_type": "markdown",
   "id": "bd81620e",
   "metadata": {},
   "source": [
    "Why isn't **10** output above? This has to do with *slice* notation in `Python`. \n",
    "Slice notation is used to index sequences such as lists, tuples and arrays.\n",
    "Suppose we want to retrieve the fourth through sixth (inclusive) entries\n",
    "of a string. We obtain a slice of the string using the indexing  notation  `[3:6]`."
   ]
  },
  {
   "cell_type": "code",
   "execution_count": null,
   "id": "f2c31efb",
   "metadata": {
    "execution": {
     "iopub.execute_input": "2024-06-05T01:13:24.065591Z",
     "iopub.status.busy": "2024-06-05T01:13:24.065473Z",
     "iopub.status.idle": "2024-06-05T01:13:24.067662Z",
     "shell.execute_reply": "2024-06-05T01:13:24.067371Z"
    },
    "lines_to_next_cell": 0
   },
   "outputs": [],
   "source": [
    "\"hello world\"[3:6]"
   ]
  },
  {
   "cell_type": "markdown",
   "id": "f7bdcca1",
   "metadata": {},
   "source": [
    "In the code block above, the notation `3:6` is shorthand for  `slice(3,6)` when used inside\n",
    "`[]`. "
   ]
  },
  {
   "cell_type": "code",
   "execution_count": null,
   "id": "c1750047",
   "metadata": {
    "execution": {
     "iopub.execute_input": "2024-06-05T01:13:24.069190Z",
     "iopub.status.busy": "2024-06-05T01:13:24.069066Z",
     "iopub.status.idle": "2024-06-05T01:13:24.071066Z",
     "shell.execute_reply": "2024-06-05T01:13:24.070825Z"
    }
   },
   "outputs": [],
   "source": [
    "\"hello world\"[slice(3,6)]\n"
   ]
  },
  {
   "cell_type": "markdown",
   "id": "e7ad395e",
   "metadata": {},
   "source": [
    "You might have expected  `slice(3,6)` to output the fourth through seventh characters in the text string (recalling that  `Python` begins its indexing at zero),  but instead it output  the fourth through sixth. \n",
    " This also explains why the earlier `np.arange(0, 10)` command output only the integers from $0$ to $9$. \n",
    "See the documentation `slice?` for useful options in creating slices. \n",
    "\n",
    "    \n",
    "\n",
    "\n",
    "\n",
    "    \n",
    "\n",
    "\n",
    "    \n",
    "\n",
    " \n",
    "\n",
    "    \n",
    "\n",
    " \n",
    "\n",
    "    \n",
    "\n",
    "\n",
    "    \n"
   ]
  },
  {
   "cell_type": "markdown",
   "id": "6b165ab8",
   "metadata": {},
   "source": [
    "## Indexing Data\n",
    "To begin, we  create a two-dimensional `numpy` array."
   ]
  },
  {
   "cell_type": "code",
   "execution_count": null,
   "id": "143492be",
   "metadata": {
    "execution": {
     "iopub.execute_input": "2024-06-05T01:13:24.072570Z",
     "iopub.status.busy": "2024-06-05T01:13:24.072457Z",
     "iopub.status.idle": "2024-06-05T01:13:24.074648Z",
     "shell.execute_reply": "2024-06-05T01:13:24.074370Z"
    }
   },
   "outputs": [],
   "source": [
    "A = np.array(np.arange(16)).reshape((4, 4))\n",
    "A\n"
   ]
  },
  {
   "cell_type": "markdown",
   "id": "a9cb509c",
   "metadata": {},
   "source": [
    "Typing `A[1,2]` retrieves the element corresponding to the second row and third\n",
    "column. (As usual, `Python` indexes from $0.$)"
   ]
  },
  {
   "cell_type": "code",
   "execution_count": null,
   "id": "d2ac17c4",
   "metadata": {
    "execution": {
     "iopub.execute_input": "2024-06-05T01:13:24.076007Z",
     "iopub.status.busy": "2024-06-05T01:13:24.075893Z",
     "iopub.status.idle": "2024-06-05T01:13:24.078027Z",
     "shell.execute_reply": "2024-06-05T01:13:24.077777Z"
    }
   },
   "outputs": [],
   "source": [
    "A[1,2]\n"
   ]
  },
  {
   "cell_type": "markdown",
   "id": "bc126be2",
   "metadata": {},
   "source": [
    "The first number after the open-bracket symbol `[`\n",
    " refers to the row, and the second number refers to the column. \n",
    "\n",
    "### Indexing Rows, Columns, and Submatrices\n",
    " To select multiple rows at a time, we can pass in a list\n",
    "  specifying our selection. For instance, `[1,3]` will retrieve the second and fourth rows:"
   ]
  },
  {
   "cell_type": "code",
   "execution_count": null,
   "id": "2f81d791",
   "metadata": {
    "execution": {
     "iopub.execute_input": "2024-06-05T01:13:24.079352Z",
     "iopub.status.busy": "2024-06-05T01:13:24.079256Z",
     "iopub.status.idle": "2024-06-05T01:13:24.081380Z",
     "shell.execute_reply": "2024-06-05T01:13:24.081110Z"
    }
   },
   "outputs": [],
   "source": [
    "A[[1,3]]\n"
   ]
  },
  {
   "cell_type": "markdown",
   "id": "eb030d8c",
   "metadata": {},
   "source": [
    "To select the first and third columns, we pass in  `[0,2]` as the second argument in the square brackets.\n",
    "In this case we need to supply the first argument `:` \n",
    "which selects all rows."
   ]
  },
  {
   "cell_type": "code",
   "execution_count": null,
   "id": "69747de6",
   "metadata": {
    "execution": {
     "iopub.execute_input": "2024-06-05T01:13:24.082810Z",
     "iopub.status.busy": "2024-06-05T01:13:24.082704Z",
     "iopub.status.idle": "2024-06-05T01:13:24.084763Z",
     "shell.execute_reply": "2024-06-05T01:13:24.084520Z"
    }
   },
   "outputs": [],
   "source": [
    "A[:,[0,2]]\n"
   ]
  },
  {
   "cell_type": "markdown",
   "id": "d2053859",
   "metadata": {},
   "source": [
    "Now, suppose that we want to select the submatrix made up of the second and fourth \n",
    "rows as well as the first and third columns. This is where\n",
    "indexing gets slightly tricky. It is natural to try  to use lists to retrieve the rows and columns:"
   ]
  },
  {
   "cell_type": "code",
   "execution_count": null,
   "id": "56b54c1f",
   "metadata": {
    "execution": {
     "iopub.execute_input": "2024-06-05T01:13:24.086007Z",
     "iopub.status.busy": "2024-06-05T01:13:24.085913Z",
     "iopub.status.idle": "2024-06-05T01:13:24.087984Z",
     "shell.execute_reply": "2024-06-05T01:13:24.087713Z"
    }
   },
   "outputs": [],
   "source": [
    "A[[1,3],[0,2]]\n"
   ]
  },
  {
   "cell_type": "markdown",
   "id": "d9849238",
   "metadata": {},
   "source": [
    " Oops --- what happened? We got a one-dimensional array of length two identical to"
   ]
  },
  {
   "cell_type": "code",
   "execution_count": null,
   "id": "7b16d338",
   "metadata": {
    "execution": {
     "iopub.execute_input": "2024-06-05T01:13:24.089374Z",
     "iopub.status.busy": "2024-06-05T01:13:24.089274Z",
     "iopub.status.idle": "2024-06-05T01:13:24.091441Z",
     "shell.execute_reply": "2024-06-05T01:13:24.091187Z"
    }
   },
   "outputs": [],
   "source": [
    "np.array([A[1,0],A[3,2]])\n"
   ]
  },
  {
   "cell_type": "markdown",
   "id": "a448fa94",
   "metadata": {},
   "source": [
    " Similarly,  the following code fails to extract the submatrix comprised of the second and fourth rows and the first, third, and fourth columns:"
   ]
  },
  {
   "cell_type": "code",
   "execution_count": null,
   "id": "302eba3c",
   "metadata": {
    "execution": {
     "iopub.execute_input": "2024-06-05T01:13:24.092746Z",
     "iopub.status.busy": "2024-06-05T01:13:24.092650Z",
     "iopub.status.idle": "2024-06-05T01:13:24.108005Z",
     "shell.execute_reply": "2024-06-05T01:13:24.107740Z"
    }
   },
   "outputs": [],
   "source": [
    "A[[1,3],[0,2,3]]\n"
   ]
  },
  {
   "cell_type": "markdown",
   "id": "ae0599be",
   "metadata": {},
   "source": [
    "We can see what has gone wrong here. When supplied with two indexing lists, the `numpy` interpretation is that these provide pairs of $i,j$ indices for a series of entries. That is why the pair of lists must have the same length. However, that was not our intent, since we are looking for a submatrix."
   ]
  },
  {
   "cell_type": "markdown",
   "id": "11c224a4",
   "metadata": {},
   "source": [
    "The *convenience function* `np.ix_()` allows us  to extract a submatrix\n",
    "using lists, by creating an intermediate *mesh* object."
   ]
  },
  {
   "cell_type": "code",
   "execution_count": null,
   "id": "9a480562",
   "metadata": {
    "execution": {
     "iopub.execute_input": "2024-06-05T01:13:24.113315Z",
     "iopub.status.busy": "2024-06-05T01:13:24.113196Z",
     "iopub.status.idle": "2024-06-05T01:13:24.115420Z",
     "shell.execute_reply": "2024-06-05T01:13:24.115148Z"
    },
    "lines_to_next_cell": 2
   },
   "outputs": [],
   "source": [
    "idx = np.ix_([1,3],[0,2,3])\n",
    "A[idx]\n"
   ]
  },
  {
   "cell_type": "markdown",
   "id": "d7224484",
   "metadata": {},
   "source": [
    "Alternatively, we can subset matrices efficiently using slices.\n",
    "  \n",
    "The slice\n",
    "`1:4:2` captures the second and fourth items of a sequence, while the slice `0:3:2` captures\n",
    "the first and third items (the third element in a slice sequence is the step size)."
   ]
  },
  {
   "cell_type": "code",
   "execution_count": null,
   "id": "8927068e",
   "metadata": {
    "execution": {
     "iopub.execute_input": "2024-06-05T01:13:24.116829Z",
     "iopub.status.busy": "2024-06-05T01:13:24.116730Z",
     "iopub.status.idle": "2024-06-05T01:13:24.118831Z",
     "shell.execute_reply": "2024-06-05T01:13:24.118589Z"
    },
    "lines_to_next_cell": 0
   },
   "outputs": [],
   "source": [
    "A[1:4:2,0:3:2]\n"
   ]
  },
  {
   "cell_type": "markdown",
   "id": "b4e099cb",
   "metadata": {},
   "source": [
    "    "
   ]
  },
  {
   "cell_type": "markdown",
   "id": "a1ed1c7d",
   "metadata": {},
   "source": [
    "Why are we able to retrieve a submatrix directly using slices but not using lists?\n",
    "Its because they are different `Python` types, and\n",
    "are treated differently by `numpy`.\n",
    "Slices can be used to extract objects from arbitrary sequences, such as strings, lists, and tuples, while the use of lists for indexing is more limited.\n",
    "\n",
    "\n",
    "\n",
    "\n",
    "    \n",
    "\n",
    " \n",
    "\n",
    "    \n",
    "\n",
    " "
   ]
  },
  {
   "cell_type": "markdown",
   "id": "bf7eb560",
   "metadata": {},
   "source": [
    "### Boolean Indexing\n",
    "In `numpy`, a *Boolean* is a type  that equals either   `True` or  `False` (also represented as $1$ and $0$, respectively).\n",
    "The next line creates a vector of $0$'s, represented as Booleans, of length equal to the first dimension of `A`. "
   ]
  },
  {
   "cell_type": "code",
   "execution_count": null,
   "id": "f1cdb1b6",
   "metadata": {
    "execution": {
     "iopub.execute_input": "2024-06-05T01:13:24.120208Z",
     "iopub.status.busy": "2024-06-05T01:13:24.120116Z",
     "iopub.status.idle": "2024-06-05T01:13:24.122067Z",
     "shell.execute_reply": "2024-06-05T01:13:24.121820Z"
    },
    "lines_to_next_cell": 0
   },
   "outputs": [],
   "source": [
    "keep_rows = np.zeros(A.shape[0], bool)\n",
    "keep_rows"
   ]
  },
  {
   "cell_type": "markdown",
   "id": "178e61c6",
   "metadata": {},
   "source": [
    "We now set two of the elements to `True`. "
   ]
  },
  {
   "cell_type": "code",
   "execution_count": null,
   "id": "a15714f1",
   "metadata": {
    "execution": {
     "iopub.execute_input": "2024-06-05T01:13:24.123503Z",
     "iopub.status.busy": "2024-06-05T01:13:24.123411Z",
     "iopub.status.idle": "2024-06-05T01:13:24.125341Z",
     "shell.execute_reply": "2024-06-05T01:13:24.125066Z"
    }
   },
   "outputs": [],
   "source": [
    "keep_rows[[1,3]] = True\n",
    "keep_rows\n"
   ]
  },
  {
   "cell_type": "markdown",
   "id": "956404d3",
   "metadata": {},
   "source": [
    "Note that the elements of `keep_rows`, when viewed as integers, are the same as the\n",
    "values of `np.array([0,1,0,1])`. Below, we use  `==` to verify their equality. When\n",
    "applied to two arrays, the `==`   operation is applied elementwise."
   ]
  },
  {
   "cell_type": "code",
   "execution_count": null,
   "id": "9510f706",
   "metadata": {
    "execution": {
     "iopub.execute_input": "2024-06-05T01:13:24.126860Z",
     "iopub.status.busy": "2024-06-05T01:13:24.126762Z",
     "iopub.status.idle": "2024-06-05T01:13:24.128900Z",
     "shell.execute_reply": "2024-06-05T01:13:24.128625Z"
    }
   },
   "outputs": [],
   "source": [
    "np.all(keep_rows == np.array([0,1,0,1]))\n"
   ]
  },
  {
   "cell_type": "markdown",
   "id": "2f556e3b",
   "metadata": {},
   "source": [
    "(Here, the function `np.all()` has checked whether\n",
    "all entries of an array are `True`. A similar function, `np.any()`, can be used to check whether any entries of an array are `True`)."
   ]
  },
  {
   "cell_type": "markdown",
   "id": "b4ffd16d",
   "metadata": {},
   "source": [
    "   However, even though `np.array([0,1,0,1])`  and `keep_rows` are equal according to `==`, they index different sets of rows!\n",
    "The former retrieves the first, second, first, and second rows of `A`. "
   ]
  },
  {
   "cell_type": "code",
   "execution_count": null,
   "id": "89d6e43d",
   "metadata": {
    "execution": {
     "iopub.execute_input": "2024-06-05T01:13:24.130396Z",
     "iopub.status.busy": "2024-06-05T01:13:24.130289Z",
     "iopub.status.idle": "2024-06-05T01:13:24.132282Z",
     "shell.execute_reply": "2024-06-05T01:13:24.132070Z"
    }
   },
   "outputs": [],
   "source": [
    "A[np.array([0,1,0,1])]\n"
   ]
  },
  {
   "cell_type": "markdown",
   "id": "ca7aa6ce",
   "metadata": {},
   "source": [
    " By contrast, `keep_rows` retrieves only the second and fourth rows  of `A` --- i.e. the rows for which the Boolean equals `True`. "
   ]
  },
  {
   "cell_type": "code",
   "execution_count": null,
   "id": "3a111ebb",
   "metadata": {
    "execution": {
     "iopub.execute_input": "2024-06-05T01:13:24.133653Z",
     "iopub.status.busy": "2024-06-05T01:13:24.133556Z",
     "iopub.status.idle": "2024-06-05T01:13:24.135615Z",
     "shell.execute_reply": "2024-06-05T01:13:24.135315Z"
    }
   },
   "outputs": [],
   "source": [
    "A[keep_rows]\n"
   ]
  },
  {
   "cell_type": "markdown",
   "id": "008030fd",
   "metadata": {},
   "source": [
    "This example shows that Booleans and integers are treated differently by `numpy`."
   ]
  },
  {
   "cell_type": "markdown",
   "id": "79091de8",
   "metadata": {},
   "source": [
    "We again make use of the `np.ix_()` function\n",
    " to create a mesh containing the second and fourth rows, and the first,  third, and fourth columns. This time, we apply the function to Booleans,\n",
    " rather than lists."
   ]
  },
  {
   "cell_type": "code",
   "execution_count": null,
   "id": "091673ca",
   "metadata": {
    "execution": {
     "iopub.execute_input": "2024-06-05T01:13:24.137042Z",
     "iopub.status.busy": "2024-06-05T01:13:24.136932Z",
     "iopub.status.idle": "2024-06-05T01:13:24.139277Z",
     "shell.execute_reply": "2024-06-05T01:13:24.138995Z"
    }
   },
   "outputs": [],
   "source": [
    "keep_cols = np.zeros(A.shape[1], bool)\n",
    "keep_cols[[0, 2, 3]] = True\n",
    "idx_bool = np.ix_(keep_rows, keep_cols)\n",
    "A[idx_bool]\n"
   ]
  },
  {
   "cell_type": "markdown",
   "id": "515f5db9",
   "metadata": {},
   "source": [
    "We can also mix a list with an array of Booleans in the arguments to `np.ix_()`:"
   ]
  },
  {
   "cell_type": "code",
   "execution_count": null,
   "id": "31299f44",
   "metadata": {
    "execution": {
     "iopub.execute_input": "2024-06-05T01:13:24.140843Z",
     "iopub.status.busy": "2024-06-05T01:13:24.140734Z",
     "iopub.status.idle": "2024-06-05T01:13:24.142836Z",
     "shell.execute_reply": "2024-06-05T01:13:24.142595Z"
    },
    "lines_to_next_cell": 0
   },
   "outputs": [],
   "source": [
    "idx_mixed = np.ix_([1,3], keep_cols)\n",
    "A[idx_mixed]\n"
   ]
  },
  {
   "cell_type": "markdown",
   "id": "cd3b9e67",
   "metadata": {},
   "source": [
    "For more details on indexing in `numpy`, readers are referred\n",
    "to the `numpy` tutorial mentioned earlier."
   ]
  }
 ],
 "metadata": {
  "jupytext": {
   "cell_metadata_filter": "-all",
   "main_language": "python",
   "notebook_metadata_filter": "-all"
  },
  "kernelspec": {
   "display_name": "Python 3 (ipykernel)",
   "language": "python",
   "name": "python3"
  },
  "language_info": {
   "codemirror_mode": {
    "name": "ipython",
    "version": 3
   },
   "file_extension": ".py",
   "mimetype": "text/x-python",
   "name": "python",
   "nbconvert_exporter": "python",
   "pygments_lexer": "ipython3",
   "version": "3.9.5"
  }
 },
 "nbformat": 4,
 "nbformat_minor": 5
}
